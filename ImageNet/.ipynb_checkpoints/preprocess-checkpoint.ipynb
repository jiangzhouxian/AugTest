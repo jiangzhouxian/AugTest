{
 "cells": [
  {
   "cell_type": "code",
   "execution_count": 27,
   "metadata": {},
   "outputs": [
    {
     "name": "stdout",
     "output_type": "stream",
     "text": [
      "(10000, 3, 224, 224)\n"
     ]
    }
   ],
   "source": [
    "import numpy as np \n",
    "import pandas as pd \n",
    "import os\n",
    "import cv2\n",
    "import torch\n",
    "from torch.utils.data import Dataset\n",
    "from torchvision import datasets\n",
    "from torchvision.transforms import ToTensor, Pad, Compose,CenterCrop, ToPILImage, Normalize, ConvertImageDtype, Resize,Compose\n",
    "from pandas import DataFrame\n",
    "from PIL import Image\n",
    "from torchvision.io import read_image\n",
    "from torch.utils.data import DataLoader\n",
    "\n",
    "from img_utils import *\n",
    "from Aug_utils import *\n",
    "from Geometric_loss import *\n",
    "from metrics import *\n",
    "\n",
    "train_dir = \"/home/zhouxian/zhouxian/ImageNet-dataset/train_sample\"  \n",
    "train_transforms = transforms.Compose([\n",
    "    transforms.Resize(224),\n",
    "    transforms.RandomResizedCrop(224),\t\t#对图片尺寸做一个缩放切割\n",
    "    transforms.RandomHorizontalFlip(),\t\t#水平翻转\n",
    "    transforms.ToTensor(),\t\t\t\t\t#转化为张量\n",
    "    transforms.Normalize((0.485, 0.456, 0.406), (0.229, 0.224, 0.225))\t#进行归一化\n",
    "])\n",
    "train_samples = []\n",
    "for im in os.listdir(train_dir):\n",
    "    if (im.split(\".\")[-1] == 'JPEG'):\n",
    "        im_path = os.path.join(train_dir,im) \n",
    "        img = Image.open(im_path)\n",
    "        img_ = np.array(img)\n",
    "        #print(img_)\n",
    "        shape = img_.shape\n",
    "        if (len(shape)<3):\n",
    "            img = np.stack((img_,) * 3, axis=-1)\n",
    "            #print(img.shape)\n",
    "            img = Image.fromarray(img, mode='RGB')\n",
    "       \n",
    "        img = train_transforms(img)\n",
    "        img = np.array(img)\n",
    "        #img = np.moveaxis(img,-1,0)\n",
    "    \n",
    "        train_samples.append(img)\n",
    "    \n",
    "\n",
    "train_samples = np.array(train_samples)\n",
    "print(train_samples.shape)\n",
    "np.save('/home/zhouxian/zhouxian/Test_Time_Augmentation/ImageNet/npy_data/train_samples.npy',train_samples)"
   ]
  },
  {
   "cell_type": "code",
   "execution_count": null,
   "metadata": {},
   "outputs": [],
   "source": []
  }
 ],
 "metadata": {
  "kernelspec": {
   "display_name": "zx_pytorch",
   "language": "python",
   "name": "zx_pytorch"
  },
  "language_info": {
   "codemirror_mode": {
    "name": "ipython",
    "version": 3
   },
   "file_extension": ".py",
   "mimetype": "text/x-python",
   "name": "python",
   "nbconvert_exporter": "python",
   "pygments_lexer": "ipython3",
   "version": "3.8.5"
  }
 },
 "nbformat": 4,
 "nbformat_minor": 2
}
