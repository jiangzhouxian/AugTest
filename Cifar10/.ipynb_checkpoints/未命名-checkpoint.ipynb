{
 "cells": [
  {
   "cell_type": "code",
   "execution_count": null,
   "metadata": {},
   "outputs": [],
   "source": [
    "import numpy as np \n",
    "import pandas as pd \n",
    "import os\n",
    "import cv2\n",
    "import torch\n",
    "from torch.utils.data import Dataset\n",
    "from torchvision import datasets\n",
    "from torchvision.transforms import ToTensor, Pad, Compose,CenterCrop, ToPILImage, Normalize, ConvertImageDtype, Resize,Compose\n",
    "from pandas import DataFrame\n",
    "from PIL import Image\n",
    "from torchvision.io import read_image\n",
    "from torch.utils.data import DataLoader\n",
    "from torchvision.datasets import CIFAR10\n",
    "from img_utils import *\n",
    "from Aug_utils import *\n",
    "from Geometric_loss import *\n",
    "from metrics import *\n",
    "#对训练数据集进行采样\n",
    "transform = transforms.Compose([transforms.ToTensor()])\n",
    "train_dataset = CIFAR10(root='./Models/Dataset', train=True,download=True, transform=transform)\n",
    "train_dataloader = torch.utils.data.DataLoader(train_dataset, batch_size=1,shuffle=True)\n",
    "train_features, train_labels = next(iter(train_dataloader))\n",
    "train_sample = []\n",
    "for j in range(10):\n",
    "    k = 0\n",
    "    for i, data in enumerate(train_dataloader, 0):\n",
    "        img, label = data\n",
    "        if label[0] == j:\n",
    "            img = img.numpy()\n",
    "            train_sample.append(img[0]) \n",
    "            k += 1\n",
    "            if k >=100:\n",
    "                break\n",
    "\n",
    "train_sample = np.array(train_sample)\n",
    "np.save(\"./npy_data/train_sample.npy\",train_sample)"
   ]
  }
 ],
 "metadata": {
  "kernelspec": {
   "display_name": "zx_pytorch",
   "language": "python",
   "name": "zx_pytorch"
  },
  "language_info": {
   "codemirror_mode": {
    "name": "ipython",
    "version": 3
   },
   "file_extension": ".py",
   "mimetype": "text/x-python",
   "name": "python",
   "nbconvert_exporter": "python",
   "pygments_lexer": "ipython3",
   "version": "3.8.5"
  }
 },
 "nbformat": 4,
 "nbformat_minor": 2
}
