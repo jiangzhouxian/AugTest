{
 "cells": [
  {
   "cell_type": "code",
   "execution_count": 1,
   "metadata": {},
   "outputs": [
    {
     "name": "stdout",
     "output_type": "stream",
     "text": [
      "50000 10000\n"
     ]
    },
    {
     "ename": "NameError",
     "evalue": "name 'resn50' is not defined",
     "output_type": "error",
     "traceback": [
      "\u001b[0;31m---------------------------------------------------------------------------\u001b[0m",
      "\u001b[0;31mNameError\u001b[0m                                 Traceback (most recent call last)",
      "Input \u001b[0;32mIn [1]\u001b[0m, in \u001b[0;36m<cell line: 41>\u001b[0;34m()\u001b[0m\n\u001b[1;32m     39\u001b[0m \u001b[38;5;28;01mdef\u001b[39;00m \u001b[38;5;21mget_num_correct\u001b[39m(out, labels):  \u001b[38;5;66;03m#求准确率\u001b[39;00m\n\u001b[1;32m     40\u001b[0m     \u001b[38;5;28;01mreturn\u001b[39;00m out\u001b[38;5;241m.\u001b[39margmax(dim\u001b[38;5;241m=\u001b[39m\u001b[38;5;241m1\u001b[39m)\u001b[38;5;241m.\u001b[39meq(labels)\u001b[38;5;241m.\u001b[39msum()\u001b[38;5;241m.\u001b[39mitem()\n\u001b[0;32m---> 41\u001b[0m model \u001b[38;5;241m=\u001b[39m r18(\u001b[43mresn50\u001b[49m)\n\u001b[1;32m     42\u001b[0m model\u001b[38;5;241m=\u001b[39mmodel\u001b[38;5;241m.\u001b[39mcuda()\n\u001b[1;32m     43\u001b[0m optimizer\u001b[38;5;241m=\u001b[39mtorch\u001b[38;5;241m.\u001b[39moptim\u001b[38;5;241m.\u001b[39mSGD(model\u001b[38;5;241m.\u001b[39mparameters(),lr\u001b[38;5;241m=\u001b[39m\u001b[38;5;241m0.01\u001b[39m)\n",
      "\u001b[0;31mNameError\u001b[0m: name 'resn50' is not defined"
     ]
    }
   ],
   "source": [
    "import torch\n",
    "import torch.nn as nn\n",
    "import torch.nn.functional as F\n",
    "import torchvision\n",
    "import torchvision.datasets as dset\n",
    "from torchvision.models import resnet18\n",
    "import torch.optim as optim\n",
    "import torchvision.transforms as transforms\n",
    "\n",
    "image_size = (224,224)\n",
    "transform=transforms.Compose([\n",
    "    transforms.RandomHorizontalFlip(),\n",
    "    transforms.Resize(image_size),\n",
    "    transforms.CenterCrop(image_size),\n",
    "    transforms.ToTensor(),\n",
    "    transforms.Normalize([0.485, 0.456, 0.406], [0.229, 0.224, 0.225]),\n",
    "])\n",
    "train_data=dset.CIFAR10(root='./Dataset',train=True,transform=transform,download=False)\n",
    "test_data=dset.CIFAR10(root='./Dataset',train=False,transform=transform,download=False)\n",
    "train_loader=torch.utils.data.DataLoader(train_data,batch_size=20,shuffle=True)\n",
    "test_loader=torch.utils.data.DataLoader(test_data,batch_size=20,shuffle=True)\n",
    "train_len=len(train_data)\n",
    "test_len=len(test_data)\n",
    "print(train_len,test_len)\n",
    "\n",
    "rs18=resnet18(pretrained=True, progress = True) #这里采用resnet18模型\n",
    "\n",
    "#adjust resnet50 to my dataset\n",
    "class r18(nn.Module):\n",
    "    def __init__(self, model):\n",
    "        super(r18,self).__init__()\n",
    "        self.rn18 = model\n",
    "        self.fc = nn.Linear(512, 10)\n",
    "        \n",
    "    def forward(self, X):\n",
    "        X = self.rn18(X)\n",
    "        X = self.fc(X)\n",
    "        return X\n",
    "def get_num_correct(out, labels):  #求准确率\n",
    "    return out.argmax(dim=1).eq(labels).sum().item()\n",
    "model = r18(rs18)\n",
    "model=model.cuda()\n",
    "optimizer=torch.optim.SGD(model.parameters(),lr=0.01)\n",
    "epoch_num = 5\n",
    "for epoch in range(epoch_num):\n",
    "    total_loss=0\n",
    "    train_correct=0\n",
    "    test_correct=0\n",
    "    for batch in train_loader:\n",
    "        images,labels=batch\n",
    "        outs=model(images.cuda())\n",
    "        loss=F.cross_entropy(outs,labels.cuda())\n",
    "        optimizer.zero_grad()\n",
    "        loss.backward()\n",
    "        optimizer.step()\n",
    "        total_loss+=loss.item()\n",
    "        train_correct+=get_num_correct(outs,labels.cuda())\n",
    "    for batch in test_loader:\n",
    "        images,labels=batch\n",
    "        outs=model(images.cuda())\n",
    "        test_correct+=get_num_correct(outs,labels.cuda())\n",
    "    print('process:',epoch,\" loss:\",total_loss,\" train_correct:\",train_correct/train_len, \" test_correct:\",test_correct/test_len)\n",
    "    torch.save(model, './weights/ResNet18_Cifar10.pth')\n",
    "    print('The model has been saved!!')"
   ]
  },
  {
   "cell_type": "code",
   "execution_count": null,
   "metadata": {},
   "outputs": [],
   "source": []
  }
 ],
 "metadata": {
  "kernelspec": {
   "display_name": "pytorch",
   "language": "python",
   "name": "pytorch"
  },
  "language_info": {
   "codemirror_mode": {
    "name": "ipython",
    "version": 3
   },
   "file_extension": ".py",
   "mimetype": "text/x-python",
   "name": "python",
   "nbconvert_exporter": "python",
   "pygments_lexer": "ipython3",
   "version": "3.9.6"
  }
 },
 "nbformat": 4,
 "nbformat_minor": 5
}
