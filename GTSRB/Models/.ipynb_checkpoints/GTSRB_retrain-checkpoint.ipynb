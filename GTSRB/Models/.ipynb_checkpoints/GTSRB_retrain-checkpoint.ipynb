{
 "cells": [
  {
   "cell_type": "code",
   "execution_count": 1,
   "metadata": {},
   "outputs": [],
   "source": [
    "#Prepare all our necessary libraries\n",
    "import numpy as np \n",
    "import pandas as pd \n",
    "import os\n",
    "import matplotlib.pyplot as plt\n",
    "\n",
    "#pytorch libraries\n",
    "import torch\n",
    "from torch.utils.data import Dataset\n",
    "from torchvision import datasets\n",
    "from torchvision.transforms import ToTensor, Pad, Compose,CenterCrop, ToPILImage, Normalize, ConvertImageDtype, Resize\n",
    "\n",
    "from torchvision.models import resnet50\n",
    "from torch import nn\n",
    "from torch.nn import init, Linear, ReLU, Softmax\n",
    "from torch.nn.init import xavier_uniform_\n",
    "from torch.optim import SGD, Adam\n",
    "import torch.nn.functional as F\n",
    "from torch.nn.init import xavier_uniform_\n",
    "\n",
    "import datetime"
   ]
  },
  {
   "cell_type": "code",
   "execution_count": 2,
   "metadata": {},
   "outputs": [],
   "source": [
    "from torchvision.io import read_image\n",
    "\n",
    "class GTSRB(Dataset):\n",
    "    def __init__(self, annotations_file, img_dir , transform=None, target_transform=None):\n",
    "        self.img_labels = pd.read_csv(annotations_file)[[\"Path\",\"ClassId\"]]\n",
    "        self.img_dir = img_dir\n",
    "        self.transform = transform\n",
    "        self.target_transform = target_transform\n",
    "\n",
    "    def __len__(self):\n",
    "        return len(self.img_labels)\n",
    "\n",
    "    def __getitem__(self, idx):\n",
    "        img_path = os.path.join(self.img_dir, self.img_labels.iloc[idx, 0])\n",
    "        label = self.img_labels.iloc[idx, 1]\n",
    "        image = read_image(img_path)\n",
    "        if self.transform:\n",
    "            image = self.transform(image)\n",
    "        if self.target_transform:\n",
    "            label = self.target_transform(label)\n",
    "        return image, label"
   ]
  },
  {
   "cell_type": "code",
   "execution_count": 3,
   "metadata": {},
   "outputs": [],
   "source": [
    "def float_transform(tensor):\n",
    "    return tensor.float()\n",
    "\n",
    "# creating training and test datasets; Normalize pictures them to (3,90,90) size\n",
    "img_dir = \"./Dataset/\"\n",
    "train_file = \"./Dataset/Train.csv\"\n",
    "test_file = \"./Dataset/Test.csv\"\n",
    "train_data = GTSRB(img_dir = img_dir, annotations_file = train_file,\n",
    "                   transform = Compose([Resize((30,30)), ConvertImageDtype(torch.float32)]))\n",
    "test_data = GTSRB(img_dir = img_dir, annotations_file = test_file,\n",
    "                   transform = Compose([Resize((30,30)), ConvertImageDtype(torch.float32)]))"
   ]
  },
  {
   "cell_type": "code",
   "execution_count": 4,
   "metadata": {},
   "outputs": [],
   "source": [
    "from torch.utils.data import DataLoader\n",
    "train_dataloader = DataLoader(train_data, batch_size=64, shuffle=True)\n",
    "test_dataloader = DataLoader(test_data, batch_size=64, shuffle=True)"
   ]
  },
  {
   "cell_type": "code",
   "execution_count": 5,
   "metadata": {},
   "outputs": [],
   "source": [
    "# Display image and label.\n",
    "train_features, train_labels = next(iter(train_dataloader))\n",
    "test_features, test_labels = next(iter(test_dataloader))"
   ]
  },
  {
   "cell_type": "code",
   "execution_count": 6,
   "metadata": {},
   "outputs": [
    {
     "name": "stdout",
     "output_type": "stream",
     "text": [
      "Feature batch shape: torch.Size([64, 3, 30, 30])\n",
      "Labels batch shape: torch.Size([64])\n",
      "Maximum:  tensor(1.) \t Minimum:  tensor(0.0588)\n"
     ]
    },
    {
     "data": {
      "image/png": "[encoded data removed]",
      "text/plain": [
       "<Figure size 640x480 with 1 Axes>"
      ]
     },
     "metadata": {},
     "output_type": "display_data"
    },
    {
     "name": "stdout",
     "output_type": "stream",
     "text": [
      "Label: 1\n"
     ]
    }
   ],
   "source": [
    "print(f\"Feature batch shape: {train_features.size()}\")\n",
    "print(f\"Labels batch shape: {train_labels.size()}\")\n",
    "print(\"Maximum: \",train_features[0].max(),\"\\t Minimum: \", train_features[0].min() )\n",
    "img = train_features[0]\n",
    "label = train_labels[0]\n",
    "img = ToPILImage()(img).convert(\"RGB\")\n",
    "plt.imshow(img)\n",
    "plt.show()\n",
    "print(f\"Label: {label}\")"
   ]
  },
  {
   "cell_type": "code",
   "execution_count": 7,
   "metadata": {},
   "outputs": [
    {
     "name": "stdout",
     "output_type": "stream",
     "text": [
      "Feature batch shape: torch.Size([64, 3, 30, 30])\n",
      "Labels batch shape: torch.Size([64])\n",
      "Maximum:  tensor(1.) \t Minimum:  tensor(0.0745)\n"
     ]
    },
    {
     "data": {
      "image/png": "[encoded data removed]",
      "text/plain": [
       "<Figure size 640x480 with 1 Axes>"
      ]
     },
     "metadata": {},
     "output_type": "display_data"
    },
    {
     "name": "stdout",
     "output_type": "stream",
     "text": [
      "Label: 1\n"
     ]
    }
   ],
   "source": [
    "print(f\"Feature batch shape: {test_features.size()}\")\n",
    "print(f\"Labels batch shape: {test_labels.size()}\")\n",
    "print(\"Maximum: \",test_features[0].max(),\"\\t Minimum: \", test_features[0].min() )\n",
    "img = test_features[0]\n",
    "label = test_labels[0]\n",
    "img = ToPILImage()(img).convert(\"RGB\")\n",
    "plt.imshow(img)\n",
    "plt.show()\n",
    "print(f\"Label: {label}\")"
   ]
  },
  {
   "cell_type": "markdown",
   "metadata": {},
   "source": [
    "1. ResNet50"
   ]
  },
  {
   "cell_type": "code",
   "execution_count": 8,
   "metadata": {},
   "outputs": [],
   "source": [
    "#downloading resent50 pretrained on ImageNet \n",
    "resn50 = resnet50(pretrained=True, progress = True)\n",
    "\n",
    "#adjust resnet50 to my dataset\n",
    "class r50(nn.Module):\n",
    "    def __init__(self, pretrained_model):\n",
    "        super(r50,self).__init__()\n",
    "        self.rn50 = pretrained_model\n",
    "        self.fl1 = nn.Linear(1000, 256)\n",
    "        self.fl2 = nn.Linear(256,43)\n",
    "        \n",
    "    def forward(self, X):\n",
    "        X = self.rn50(X)\n",
    "        X = F.relu(self.fl1(X))\n",
    "        X = F.dropout(X, p=0.25)\n",
    "        X = self.fl2(X)\n",
    "        return X"
   ]
  },
  {
   "cell_type": "code",
   "execution_count": 9,
   "metadata": {},
   "outputs": [
    {
     "name": "stdout",
     "output_type": "stream",
     "text": [
      "Epoch: 1/15 \t Time: 05:28:10.321389 \t Loss: 0.8299138656594042 \t Accuracy: 0.9294740853658537\n",
      "Epoch: 2/15 \t Time: 05:29:22.536977 \t Loss: 0.3761628614905705 \t Accuracy: 0.8551981707317072\n",
      "Epoch: 3/15 \t Time: 05:30:28.370218 \t Loss: 0.2401196780063054 \t Accuracy: 0.9435746951219512\n",
      "Epoch: 4/15 \t Time: 05:31:34.574250 \t Loss: 0.2553199240588393 \t Accuracy: 0.9369740853658537\n",
      "Epoch: 5/15 \t Time: 05:32:38.591957 \t Loss: 0.2965435992628579 \t Accuracy: 0.9128353658536585\n",
      "Epoch: 6/15 \t Time: 05:33:37.465579 \t Loss: 0.12505426004621675 \t Accuracy: 0.9768368902439025\n",
      "Epoch: 7/15 \t Time: 05:34:18.449552 \t Loss: 0.07255486698889935 \t Accuracy: 0.9826371951219512\n",
      "Epoch: 8/15 \t Time: 05:35:15.311052 \t Loss: 0.12519062831145172 \t Accuracy: 0.9083231707317073\n",
      "Epoch: 9/15 \t Time: 05:36:04.250206 \t Loss: 0.3036274186853581 \t Accuracy: 0.9513871951219512\n",
      "Epoch: 10/15 \t Time: 05:36:47.996749 \t Loss: 0.14175291264621118 \t Accuracy: 0.9866996951219512\n",
      "Epoch: 11/15 \t Time: 05:37:47.857116 \t Loss: 0.08618957712134608 \t Accuracy: 0.9826371951219512\n",
      "Epoch: 12/15 \t Time: 05:38:54.076862 \t Loss: 0.06707788173407073 \t Accuracy: 0.9832621951219512\n",
      "Epoch: 13/15 \t Time: 05:39:33.804531 \t Loss: 0.06356112722483681 \t Accuracy: 0.9863871951219513\n",
      "Epoch: 14/15 \t Time: 05:40:13.519541 \t Loss: 0.23349775649097462 \t Accuracy: 0.946173780487805\n",
      "Epoch: 15/15 \t Time: 05:40:53.223367 \t Loss: 0.10723058596294416 \t Accuracy: 0.9820121951219513\n"
     ]
    }
   ],
   "source": [
    "model = r50(resn50)\n",
    "criterion = nn.CrossEntropyLoss(reduction = \"mean\")\n",
    "optim = Adam(model.parameters(), lr = 0.001)\n",
    "\n",
    "#put on cuda if possible\n",
    "device = torch.device(\"cuda:0\" if torch.cuda.is_available() else \"cpu\")\n",
    "model.to(device)\n",
    "nb_epochs = 15\n",
    "accuracy = []\n",
    "eps = 0.01\n",
    "eps_iter = 0.001\n",
    "steps = 20\n",
    "\n",
    "for epoch in range(nb_epochs):\n",
    "    running_loss = 0\n",
    "    for i, data in enumerate(train_dataloader, 0):\n",
    "        train_features, train_labels = data\n",
    "        train_features, train_labels = train_features.to(device), train_labels.to(device)\n",
    "        model.eval()\n",
    "        model.train()\n",
    "        optim.zero_grad()\n",
    "        prediction = model(train_features).to(torch.float32)\n",
    "        loss = criterion(prediction, train_labels.to(torch.long)) \n",
    "        loss.backward()\n",
    "        optim.step()\n",
    "\n",
    "        running_loss += loss.item()\n",
    "        \n",
    "        #calculate accuracy\n",
    "        corrects = 0\n",
    "        pred = torch.argmax(prediction, dim = 1)\n",
    "        \n",
    "        for i, p,l in zip(range(64), pred, train_labels):\n",
    "            corrects += (p == l)\n",
    "        accuracy.append(int(corrects)/len(pred))\n",
    "    \n",
    "    print(\"Epoch: {j}/{total_epochs} \\t Time: {time} \\t Loss: {Loss} \\t Accuracy: {acc}\".format(j = epoch+1,Loss = running_loss/len(train_dataloader),total_epochs = nb_epochs,time = datetime.datetime.now().time(), acc=np.mean(accuracy[-50:])))  "
   ]
  },
  {
   "cell_type": "code",
   "execution_count": 10,
   "metadata": {},
   "outputs": [],
   "source": [
    "#save accuracy information \n",
    "accuracy_data = pd.DataFrame({\"accuracy\":accuracy})\n",
    "accuracy_data.to_csv((\"./training_eps{}_epsiter{}_st{}\".format(eps*10, eps_iter*10, steps).replace(\".\",\"\") + \".csv\"))"
   ]
  },
  {
   "cell_type": "code",
   "execution_count": 11,
   "metadata": {},
   "outputs": [],
   "source": [
    "# save model for our test notebook    \n",
    "PATH = './gtsrb_resnet50.pth'\n",
    "torch.save(model.state_dict(), PATH)"
   ]
  },
  {
   "cell_type": "code",
   "execution_count": 9,
   "metadata": {},
   "outputs": [
    {
     "name": "stdout",
     "output_type": "stream",
     "text": [
      "0.9274742676167854\n"
     ]
    }
   ],
   "source": [
    "model = r50(resn50)\n",
    "model.load_state_dict(torch.load('./gtsrb_resnet50.pth'))\n",
    "correct_test = 0\n",
    "model.cuda(0)\n",
    "model.eval() \n",
    "with torch.no_grad():\n",
    "    for i, data in enumerate(test_dataloader, 0):\n",
    "        test_features, test_labels = data\n",
    "        outputs = model(test_features.cuda(0))\n",
    "        _,pred_idxs = torch.topk(outputs, 1)\n",
    "        correct_test += torch.eq(test_labels.cuda(0), pred_idxs.squeeze()).sum().item()\n",
    "print(correct_test/len(test_data))"
   ]
  },
  {
   "cell_type": "markdown",
   "metadata": {},
   "source": [
    "2.Wide-ResNet-50"
   ]
  },
  {
   "cell_type": "code",
   "execution_count": 10,
   "metadata": {},
   "outputs": [],
   "source": [
    "#downloading Wide-ResNet-50 pretrained on ImageNet \n",
    "from torchvision.models import wide_resnet50_2\n",
    "wresn50 = wide_resnet50_2(pretrained=True, progress = True)\n",
    "\n",
    "#adjust Wide-ResNet-50 to my dataset\n",
    "class wr50(nn.Module):\n",
    "    def __init__(self, pretrained_model):\n",
    "        super(wr50,self).__init__()\n",
    "        self.wrn50 = pretrained_model\n",
    "        self.fl1 = nn.Linear(1000, 256)\n",
    "        self.fl2 = nn.Linear(256,43)\n",
    "        \n",
    "    def forward(self, X):\n",
    "        X = self.wrn50(X)\n",
    "        X = F.relu(self.fl1(X))\n",
    "        X = F.dropout(X, p=0.25)\n",
    "        X = self.fl2(X)\n",
    "        return X"
   ]
  },
  {
   "cell_type": "code",
   "execution_count": 13,
   "metadata": {},
   "outputs": [
    {
     "name": "stdout",
     "output_type": "stream",
     "text": [
      "Epoch: 1/15 \t Time: 05:46:42.155029 \t Loss: 1.1696442587340636 \t Accuracy: 0.8236966463414634\n",
      "Epoch: 2/15 \t Time: 05:48:02.910269 \t Loss: 0.6150481045416284 \t Accuracy: 0.8712118902439024\n",
      "Epoch: 3/15 \t Time: 05:48:57.196160 \t Loss: 0.41411852540651894 \t Accuracy: 0.8731859756097561\n",
      "Epoch: 4/15 \t Time: 05:49:51.751930 \t Loss: 0.2790267562606109 \t Accuracy: 0.9626371951219512\n",
      "Epoch: 5/15 \t Time: 05:50:57.536301 \t Loss: 0.13313546286307906 \t Accuracy: 0.9777743902439024\n",
      "Epoch: 6/15 \t Time: 05:51:57.802772 \t Loss: 0.2954401330168543 \t Accuracy: 0.9278734756097561\n",
      "Epoch: 7/15 \t Time: 05:52:50.112882 \t Loss: 0.36439611895243845 \t Accuracy: 0.8940243902439025\n",
      "Epoch: 8/15 \t Time: 05:54:05.910676 \t Loss: 0.2433085929948782 \t Accuracy: 0.9518368902439025\n",
      "Epoch: 9/15 \t Time: 05:55:18.057887 \t Loss: 0.12011157370629746 \t Accuracy: 0.9803125\n",
      "Epoch: 10/15 \t Time: 05:56:12.966382 \t Loss: 0.1869574370756016 \t Accuracy: 0.958048780487805\n",
      "Epoch: 11/15 \t Time: 05:57:27.189597 \t Loss: 0.26257636270001167 \t Accuracy: 0.9471112804878049\n",
      "Epoch: 12/15 \t Time: 05:58:39.131403 \t Loss: 0.46878827145994684 \t Accuracy: 0.8329725609756098\n",
      "Epoch: 13/15 \t Time: 05:59:54.267145 \t Loss: 0.2888395787500829 \t Accuracy: 0.9490243902439025\n",
      "Epoch: 14/15 \t Time: 06:01:13.965257 \t Loss: 0.1924104434460839 \t Accuracy: 0.9464862804878049\n",
      "Epoch: 15/15 \t Time: 06:02:21.935776 \t Loss: 0.39934330099971804 \t Accuracy: 0.9263490853658537\n"
     ]
    }
   ],
   "source": [
    "model = wr50(wresn50)\n",
    "criterion = nn.CrossEntropyLoss(reduction = \"mean\")\n",
    "optim = Adam(model.parameters(), lr = 0.001)\n",
    "\n",
    "#put on cuda if possible\n",
    "device = torch.device(\"cuda:0\" if torch.cuda.is_available() else \"cpu\")\n",
    "model.to(device)\n",
    "nb_epochs = 15\n",
    "accuracy = []\n",
    "eps = 0.01\n",
    "eps_iter = 0.001\n",
    "steps = 20\n",
    "\n",
    "for epoch in range(nb_epochs):\n",
    "    running_loss = 0\n",
    "    for i, data in enumerate(train_dataloader, 0):\n",
    "        train_features, train_labels = data\n",
    "        train_features, train_labels = train_features.to(device), train_labels.to(device)\n",
    "        model.eval()\n",
    "        model.train()\n",
    "        optim.zero_grad()\n",
    "        prediction = model(train_features).to(torch.float32)\n",
    "        loss = criterion(prediction, train_labels.to(torch.long)) \n",
    "        loss.backward()\n",
    "        optim.step()\n",
    "\n",
    "        running_loss += loss.item()\n",
    "        \n",
    "        #calculate accuracy\n",
    "        corrects = 0\n",
    "        pred = torch.argmax(prediction, dim = 1)\n",
    "        \n",
    "        for i, p,l in zip(range(64), pred, train_labels):\n",
    "            corrects += (p == l)\n",
    "        accuracy.append(int(corrects)/len(pred))\n",
    "    \n",
    "    print(\"Epoch: {j}/{total_epochs} \\t Time: {time} \\t Loss: {Loss} \\t Accuracy: {acc}\".format(j = epoch+1,Loss = running_loss/len(train_dataloader),total_epochs = nb_epochs,time = datetime.datetime.now().time(), acc=np.mean(accuracy[-50:])))  "
   ]
  },
  {
   "cell_type": "code",
   "execution_count": 14,
   "metadata": {},
   "outputs": [],
   "source": [
    "# save model for our test notebook    \n",
    "PATH = './gtsrb_wide_resnet50.pth'\n",
    "torch.save(model.state_dict(), PATH)"
   ]
  },
  {
   "cell_type": "code",
   "execution_count": 11,
   "metadata": {},
   "outputs": [
    {
     "name": "stdout",
     "output_type": "stream",
     "text": [
      "0.8835312747426761\n"
     ]
    }
   ],
   "source": [
    "model = wr50(wresn50)\n",
    "model.load_state_dict(torch.load('./gtsrb_wide_resnet50.pth'))\n",
    "correct_test = 0\n",
    "model.cuda(0)\n",
    "model.eval() \n",
    "with torch.no_grad():\n",
    "    for i, data in enumerate(test_dataloader, 0):\n",
    "        test_features, test_labels = data\n",
    "        outputs = model(test_features.cuda(0))\n",
    "        _,pred_idxs = torch.topk(outputs, 1)\n",
    "        correct_test += torch.eq(test_labels.cuda(0), pred_idxs.squeeze()).sum().item()\n",
    "print(correct_test/len(test_data))"
   ]
  },
  {
   "cell_type": "markdown",
   "metadata": {},
   "source": [
    "3.squeezenet1_0"
   ]
  },
  {
   "cell_type": "code",
   "execution_count": 12,
   "metadata": {},
   "outputs": [],
   "source": [
    "#downloading squeezenet1_0 pretrained on ImageNet \n",
    "from torchvision.models import squeezenet1_0\n",
    "squ = squeezenet1_0(pretrained=True, progress = True)\n",
    "\n",
    "#adjust squeezenet1_0 to my dataset\n",
    "class squeezenet(nn.Module):\n",
    "    def __init__(self, pretrained_model):\n",
    "        super(squeezenet,self).__init__()\n",
    "        self.squ1 = pretrained_model\n",
    "        self.fl1 = nn.Linear(1000, 256)\n",
    "        self.fl2 = nn.Linear(256,43)\n",
    "        \n",
    "    def forward(self, X):\n",
    "        X = self.squ1(X)\n",
    "        X = F.relu(self.fl1(X))\n",
    "        X = F.dropout(X, p=0.2)\n",
    "        X = self.fl2(X)\n",
    "        return X"
   ]
  },
  {
   "cell_type": "code",
   "execution_count": 28,
   "metadata": {},
   "outputs": [
    {
     "name": "stdout",
     "output_type": "stream",
     "text": [
      "Epoch: 1/15 \t Time: 06:14:58.821734 \t Loss: 1.9906214032243166 \t Accuracy: 0.5851448170731708\n",
      "Epoch: 2/15 \t Time: 06:15:30.309671 \t Loss: 0.6812263481185253 \t Accuracy: 0.8348856707317073\n",
      "Epoch: 3/15 \t Time: 06:16:04.060081 \t Loss: 0.38696098911042703 \t Accuracy: 0.892736280487805\n",
      "Epoch: 4/15 \t Time: 06:16:38.766013 \t Loss: 0.2747477732574473 \t Accuracy: 0.910548780487805\n",
      "Epoch: 5/15 \t Time: 06:17:11.063364 \t Loss: 0.2094057544604017 \t Accuracy: 0.9479115853658537\n",
      "Epoch: 6/15 \t Time: 06:17:40.987740 \t Loss: 0.20657625063937796 \t Accuracy: 0.9601981707317073\n",
      "Epoch: 7/15 \t Time: 06:18:09.231474 \t Loss: 0.1558953172741473 \t Accuracy: 0.9754115853658537\n",
      "Epoch: 8/15 \t Time: 06:18:37.460260 \t Loss: 0.1462825336653077 \t Accuracy: 0.9601371951219513\n",
      "Epoch: 9/15 \t Time: 06:19:05.804286 \t Loss: 0.14735291018203922 \t Accuracy: 0.9629496951219513\n",
      "Epoch: 10/15 \t Time: 06:19:35.840548 \t Loss: 0.14698019616596772 \t Accuracy: 0.9725\n",
      "Epoch: 11/15 \t Time: 06:20:06.830965 \t Loss: 0.10336305085321977 \t Accuracy: 0.9852743902439025\n",
      "Epoch: 12/15 \t Time: 06:20:35.528988 \t Loss: 0.1596362365354278 \t Accuracy: 0.9848246951219513\n",
      "Epoch: 13/15 \t Time: 06:21:07.642387 \t Loss: 0.10060839710167843 \t Accuracy: 0.9884375\n",
      "Epoch: 14/15 \t Time: 06:21:42.329780 \t Loss: 0.12760815217330038 \t Accuracy: 0.9740625\n",
      "Epoch: 15/15 \t Time: 06:22:14.712332 \t Loss: 0.13158663778596588 \t Accuracy: 0.9796875\n"
     ]
    }
   ],
   "source": [
    "model = squeezenet(squ)\n",
    "criterion = nn.CrossEntropyLoss(reduction = \"mean\")\n",
    "optim = Adam(model.parameters(), lr = 0.001)\n",
    "\n",
    "#put on cuda if possible\n",
    "device = torch.device(\"cuda:0\" if torch.cuda.is_available() else \"cpu\")\n",
    "model.to(device)\n",
    "nb_epochs = 15\n",
    "accuracy = []\n",
    "eps = 0.01\n",
    "eps_iter = 0.001\n",
    "steps = 20\n",
    "\n",
    "for epoch in range(nb_epochs):\n",
    "    running_loss = 0\n",
    "    for i, data in enumerate(train_dataloader, 0):\n",
    "        train_features, train_labels = data\n",
    "        train_features, train_labels = train_features.to(device), train_labels.to(device)\n",
    "        model.eval()\n",
    "        model.train()\n",
    "        optim.zero_grad()\n",
    "        prediction = model(train_features).to(torch.float32)\n",
    "        loss = criterion(prediction, train_labels.to(torch.long)) \n",
    "        loss.backward()\n",
    "        optim.step()\n",
    "\n",
    "        running_loss += loss.item()\n",
    "        \n",
    "        #calculate accuracy\n",
    "        corrects = 0\n",
    "        pred = torch.argmax(prediction, dim = 1)\n",
    "        \n",
    "        for i, p,l in zip(range(64), pred, train_labels):\n",
    "            corrects += (p == l)\n",
    "        accuracy.append(int(corrects)/len(pred))\n",
    "    \n",
    "    print(\"Epoch: {j}/{total_epochs} \\t Time: {time} \\t Loss: {Loss} \\t Accuracy: {acc}\".format(j = epoch+1,Loss = running_loss/len(train_dataloader),total_epochs = nb_epochs,time = datetime.datetime.now().time(), acc=np.mean(accuracy[-50:])))  "
   ]
  },
  {
   "cell_type": "code",
   "execution_count": 29,
   "metadata": {},
   "outputs": [],
   "source": [
    "# save model for our test notebook    \n",
    "PATH = './gtsrb_squeezenet.pth'\n",
    "torch.save(model.state_dict(), PATH)"
   ]
  },
  {
   "cell_type": "code",
   "execution_count": 14,
   "metadata": {},
   "outputs": [
    {
     "name": "stdout",
     "output_type": "stream",
     "text": [
      "0.9419635787806809\n"
     ]
    }
   ],
   "source": [
    "model = squeezenet(squ)\n",
    "model.load_state_dict(torch.load('./gtsrb_squeezenet.pth'))\n",
    "correct_test = 0\n",
    "model.cuda(0)\n",
    "model.eval() \n",
    "with torch.no_grad():\n",
    "    for i, data in enumerate(test_dataloader, 0):\n",
    "        test_features, test_labels = data\n",
    "        outputs = model(test_features.cuda(0))\n",
    "        _,pred_idxs = torch.topk(outputs, 1)\n",
    "        correct_test += torch.eq(test_labels.cuda(0), pred_idxs.squeeze()).sum().item()\n",
    "print(correct_test/len(test_data))"
   ]
  },
  {
   "cell_type": "code",
   "execution_count": 15,
   "metadata": {},
   "outputs": [
    {
     "name": "stderr",
     "output_type": "stream",
     "text": [
      "Downloading: \"https://download.pytorch.org/models/squeezenet1_1-b8a52dc0.pth\" to /root/.cache/torch/hub/checkpoints/squeezenet1_1-b8a52dc0.pth\n",
      "100.0%\n"
     ]
    }
   ],
   "source": [
    "#downloading squeezenet1_0 pretrained on ImageNet \n",
    "from torchvision.models import squeezenet1_1\n",
    "squ = squeezenet1_1(pretrained=True, progress = True)\n",
    "\n",
    "#adjust squeezenet1_0 to my dataset\n",
    "class squeezenet1(nn.Module):\n",
    "    def __init__(self, pretrained_model):\n",
    "        super(squeezenet1,self).__init__()\n",
    "        self.squ1 = pretrained_model\n",
    "        self.fl1 = nn.Linear(1000, 256)\n",
    "        self.fl2 = nn.Linear(256,43)\n",
    "        \n",
    "    def forward(self, X):\n",
    "        X = self.squ1(X)\n",
    "        X = F.relu(self.fl1(X))\n",
    "        X = F.dropout(X, p=0.2)\n",
    "        X = self.fl2(X)\n",
    "        return X"
   ]
  },
  {
   "cell_type": "code",
   "execution_count": 16,
   "metadata": {},
   "outputs": [
    {
     "name": "stdout",
     "output_type": "stream",
     "text": [
      "Epoch: 1/15 \t Time: 11:26:23.162432 \t Loss: 2.5858541213668773 \t Accuracy: 0.32993140243902436\n",
      "Epoch: 2/15 \t Time: 11:26:58.043409 \t Loss: 1.5567416655686708 \t Accuracy: 0.5163567073170732\n",
      "Epoch: 3/15 \t Time: 11:27:32.550376 \t Loss: 1.1781447603690878 \t Accuracy: 0.5670198170731707\n",
      "Epoch: 4/15 \t Time: 11:28:07.203718 \t Loss: 0.9522554639113086 \t Accuracy: 0.6936966463414634\n",
      "Epoch: 5/15 \t Time: 11:28:40.947780 \t Loss: 0.7750199383662536 \t Accuracy: 0.7308841463414635\n",
      "Epoch: 6/15 \t Time: 11:29:17.072659 \t Loss: 0.5994082907576351 \t Accuracy: 0.7803963414634147\n",
      "Epoch: 7/15 \t Time: 11:29:51.326837 \t Loss: 0.5352728426407835 \t Accuracy: 0.806859756097561\n",
      "Epoch: 8/15 \t Time: 11:30:25.885260 \t Loss: 0.4490373807717692 \t Accuracy: 0.8437728658536585\n",
      "Epoch: 9/15 \t Time: 11:30:59.338151 \t Loss: 0.36989113630128334 \t Accuracy: 0.8825\n",
      "Epoch: 10/15 \t Time: 11:31:32.682920 \t Loss: 0.3692484948218938 \t Accuracy: 0.889123475609756\n",
      "Epoch: 11/15 \t Time: 11:32:05.721373 \t Loss: 0.26852953440067623 \t Accuracy: 0.9197865853658537\n",
      "Epoch: 12/15 \t Time: 11:32:36.965948 \t Loss: 0.32293498317967817 \t Accuracy: 0.8926981707317073\n",
      "Epoch: 13/15 \t Time: 11:33:07.442284 \t Loss: 0.27679715145737854 \t Accuracy: 0.9278125\n",
      "Epoch: 14/15 \t Time: 11:33:40.463917 \t Loss: 0.19515082121448407 \t Accuracy: 0.9441996951219512\n",
      "Epoch: 15/15 \t Time: 11:34:13.682280 \t Loss: 0.24531974758630767 \t Accuracy: 0.9338871951219513\n"
     ]
    }
   ],
   "source": [
    "model = squeezenet1(squ)\n",
    "criterion = nn.CrossEntropyLoss(reduction = \"mean\")\n",
    "optim = Adam(model.parameters(), lr = 0.001)\n",
    "\n",
    "#put on cuda if possible\n",
    "device = torch.device(\"cuda:0\" if torch.cuda.is_available() else \"cpu\")\n",
    "model.to(device)\n",
    "nb_epochs = 15\n",
    "accuracy = []\n",
    "eps = 0.01\n",
    "eps_iter = 0.001\n",
    "steps = 20\n",
    "\n",
    "for epoch in range(nb_epochs):\n",
    "    running_loss = 0\n",
    "    for i, data in enumerate(train_dataloader, 0):\n",
    "        train_features, train_labels = data\n",
    "        train_features, train_labels = train_features.to(device), train_labels.to(device)\n",
    "        model.eval()\n",
    "        model.train()\n",
    "        optim.zero_grad()\n",
    "        prediction = model(train_features).to(torch.float32)\n",
    "        loss = criterion(prediction, train_labels.to(torch.long)) \n",
    "        loss.backward()\n",
    "        optim.step()\n",
    "\n",
    "        running_loss += loss.item()\n",
    "        \n",
    "        #calculate accuracy\n",
    "        corrects = 0\n",
    "        pred = torch.argmax(prediction, dim = 1)\n",
    "        \n",
    "        for i, p,l in zip(range(64), pred, train_labels):\n",
    "            corrects += (p == l)\n",
    "        accuracy.append(int(corrects)/len(pred))\n",
    "    \n",
    "    print(\"Epoch: {j}/{total_epochs} \\t Time: {time} \\t Loss: {Loss} \\t Accuracy: {acc}\".format(j = epoch+1,Loss = running_loss/len(train_dataloader),total_epochs = nb_epochs,time = datetime.datetime.now().time(), acc=np.mean(accuracy[-50:])))  "
   ]
  },
  {
   "cell_type": "code",
   "execution_count": 17,
   "metadata": {},
   "outputs": [
    {
     "name": "stdout",
     "output_type": "stream",
     "text": [
      "0.8803642121931908\n"
     ]
    }
   ],
   "source": [
    "# save model for our test notebook    \n",
    "PATH = './gtsrb_squeezenet1_1.pth'\n",
    "torch.save(model.state_dict(), PATH)\n",
    "model = squeezenet1(squ)\n",
    "model.load_state_dict(torch.load('./gtsrb_squeezenet1_1.pth'))\n",
    "correct_test = 0\n",
    "model.cuda(0)\n",
    "model.eval() \n",
    "with torch.no_grad():\n",
    "    for i, data in enumerate(test_dataloader, 0):\n",
    "        test_features, test_labels = data\n",
    "        outputs = model(test_features.cuda(0))\n",
    "        _,pred_idxs = torch.topk(outputs, 1)\n",
    "        correct_test += torch.eq(test_labels.cuda(0), pred_idxs.squeeze()).sum().item()\n",
    "print(correct_test/len(test_data))"
   ]
  },
  {
   "cell_type": "code",
   "execution_count": null,
   "metadata": {},
   "outputs": [],
   "source": []
  }
 ],
 "metadata": {
  "kernelspec": {
   "display_name": "pytorch",
   "language": "python",
   "name": "pytorch"
  },
  "language_info": {
   "codemirror_mode": {
    "name": "ipython",
    "version": 3
   },
   "file_extension": ".py",
   "mimetype": "text/x-python",
   "name": "python",
   "nbconvert_exporter": "python",
   "pygments_lexer": "ipython3",
   "version": "3.9.6"
  }
 },
 "nbformat": 4,
 "nbformat_minor": 2
}
